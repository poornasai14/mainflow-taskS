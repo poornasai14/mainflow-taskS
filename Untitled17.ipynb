{
 "cells": [
  {
   "cell_type": "code",
   "execution_count": 1,
   "id": "6f973365-6f0d-48d8-a361-6a23a059c9aa",
   "metadata": {},
   "outputs": [
    {
     "name": "stdin",
     "output_type": "stream",
     "text": [
      "Enter the first number:  5\n",
      "Enter the second number:  6\n"
     ]
    },
    {
     "name": "stdout",
     "output_type": "stream",
     "text": [
      "The sum of the two numbers is: 11\n"
     ]
    }
   ],
   "source": [
    "# Input: Two integers\n",
    "num1 = int(input(\"Enter the first number: \"))\n",
    "num2 = int(input(\"Enter the second number: \"))\n",
    "\n",
    "# Output: Their sum\n",
    "print(\"The sum of the two numbers is:\", num1 + num2)\n"
   ]
  },
  {
   "cell_type": "code",
   "execution_count": 2,
   "id": "19163cc1-9437-440f-866f-4568059a5ad6",
   "metadata": {},
   "outputs": [
    {
     "name": "stdin",
     "output_type": "stream",
     "text": [
      "Enter a number:  6\n"
     ]
    },
    {
     "name": "stdout",
     "output_type": "stream",
     "text": [
      "Even\n"
     ]
    }
   ],
   "source": [
    "# Input: A single integer\n",
    "number = int(input(\"Enter a number: \"))\n",
    "\n",
    "# Check if it's odd or even\n",
    "if number % 2 == 0:\n",
    "    print(\"Even\")\n",
    "else:\n",
    "    print(\"Odd\")\n"
   ]
  },
  {
   "cell_type": "code",
   "execution_count": 3,
   "id": "afebf86b-e83b-4480-b293-58d6e0c7385e",
   "metadata": {},
   "outputs": [
    {
     "name": "stdin",
     "output_type": "stream",
     "text": [
      "Enter a number:  8\n"
     ]
    },
    {
     "name": "stdout",
     "output_type": "stream",
     "text": [
      "The factorial of 8 is: 40320\n"
     ]
    }
   ],
   "source": [
    "import math\n",
    "\n",
    "# Input: A single integer\n",
    "n = int(input(\"Enter a number: \"))\n",
    "\n",
    "# Output: Factorial of n\n",
    "print(\"The factorial of\", n, \"is:\", math.factorial(n))\n"
   ]
  },
  {
   "cell_type": "code",
   "execution_count": 4,
   "id": "4dad824f-068d-43cf-8332-75ac6389c2a7",
   "metadata": {},
   "outputs": [
    {
     "name": "stdin",
     "output_type": "stream",
     "text": [
      "Enter the number of Fibonacci numbers to generate:  8\n"
     ]
    },
    {
     "name": "stdout",
     "output_type": "stream",
     "text": [
      "Fibonacci sequence: [0, 1, 1, 2, 3, 5, 8, 13]\n"
     ]
    }
   ],
   "source": [
    "# Input: Integer n\n",
    "n = int(input(\"Enter the number of Fibonacci numbers to generate: \"))\n",
    "\n",
    "# Generate Fibonacci sequence\n",
    "fib_sequence = []\n",
    "a, b = 0, 1\n",
    "for _ in range(n):\n",
    "    fib_sequence.append(a)\n",
    "    a, b = b, a + b\n",
    "\n",
    "# Output: List of Fibonacci numbers\n",
    "print(\"Fibonacci sequence:\", fib_sequence)\n"
   ]
  },
  {
   "cell_type": "code",
   "execution_count": 6,
   "id": "28ea6bf4-639a-4224-8fc7-5a29ac5c52ad",
   "metadata": {},
   "outputs": [
    {
     "name": "stdin",
     "output_type": "stream",
     "text": [
      "Enter a string:  8\n"
     ]
    },
    {
     "name": "stdout",
     "output_type": "stream",
     "text": [
      "Reversed string: 8\n"
     ]
    }
   ],
   "source": [
    "# Input: A string\n",
    "string = input(\"Enter a string: \")\n",
    "\n",
    "# Output: The reversed string\n",
    "print(\"Reversed string:\", string[::-1])\n"
   ]
  },
  {
   "cell_type": "code",
   "execution_count": 7,
   "id": "d3672810-12a9-433a-b8a2-83f200e80e18",
   "metadata": {},
   "outputs": [
    {
     "name": "stdin",
     "output_type": "stream",
     "text": [
      "Enter a string:  8\n"
     ]
    },
    {
     "name": "stdout",
     "output_type": "stream",
     "text": [
      "Is it a palindrome? True\n"
     ]
    }
   ],
   "source": [
    "# Input: A string\n",
    "string = input(\"Enter a string: \")\n",
    "\n",
    "# Check if the string is a palindrome\n",
    "is_palindrome = string == string[::-1]\n",
    "print(\"Is it a palindrome?\", is_palindrome)\n"
   ]
  },
  {
   "cell_type": "code",
   "execution_count": 8,
   "id": "6110e6e4-0983-41a3-afe6-dba1203685f5",
   "metadata": {},
   "outputs": [
    {
     "name": "stdin",
     "output_type": "stream",
     "text": [
      "Enter a year:  2025\n"
     ]
    },
    {
     "name": "stdout",
     "output_type": "stream",
     "text": [
      "Is it a leap year? False\n"
     ]
    }
   ],
   "source": [
    "# Input: An integer year\n",
    "year = int(input(\"Enter a year: \"))\n",
    "\n",
    "# Check if it's a leap year\n",
    "is_leap_year = (year % 4 == 0 and year % 100 != 0) or (year % 400 == 0)\n",
    "print(\"Is it a leap year?\", is_leap_year)\n"
   ]
  },
  {
   "cell_type": "code",
   "execution_count": 9,
   "id": "bc242b8c-7922-4ac7-8676-7758ec6c2af0",
   "metadata": {},
   "outputs": [
    {
     "name": "stdin",
     "output_type": "stream",
     "text": [
      "Enter a number:  4\n"
     ]
    },
    {
     "name": "stdout",
     "output_type": "stream",
     "text": [
      "Is it an Armstrong number? True\n"
     ]
    }
   ],
   "source": [
    "# Input: An integer\n",
    "num = int(input(\"Enter a number: \"))\n",
    "\n",
    "# Check if it's an Armstrong number\n",
    "num_str = str(num)\n",
    "length = len(num_str)\n",
    "sum_of_powers = sum(int(digit) ** length for digit in num_str)\n",
    "\n",
    "print(\"Is it an Armstrong number?\", num == sum_of_powers)\n"
   ]
  },
  {
   "cell_type": "code",
   "execution_count": null,
   "id": "a06f466c-eb68-40dd-8f57-472c41f51b60",
   "metadata": {},
   "outputs": [],
   "source": []
  }
 ],
 "metadata": {
  "kernelspec": {
   "display_name": "Python 3 (ipykernel)",
   "language": "python",
   "name": "python3"
  },
  "language_info": {
   "codemirror_mode": {
    "name": "ipython",
    "version": 3
   },
   "file_extension": ".py",
   "mimetype": "text/x-python",
   "name": "python",
   "nbconvert_exporter": "python",
   "pygments_lexer": "ipython3",
   "version": "3.12.4"
  }
 },
 "nbformat": 4,
 "nbformat_minor": 5
}
